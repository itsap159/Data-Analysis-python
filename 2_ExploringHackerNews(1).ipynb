{
 "cells": [
  {
   "cell_type": "markdown",
   "id": "7eb4bc9d",
   "metadata": {},
   "source": [
    "# Exploring Hacker News\n",
    "\n",
    "## Introduction: \n",
    "\n",
    "### What is Hacker News?\n",
    "\n",
    "[Hacker News](https://news.ycombinator.com/) is an independent news site, similar to Reddit, operated by [Y combinator](https://www.ycombinator.com/). The website is built on a simple posting platform with an up/down voting system and comments on posts.\n",
    "\n",
    "### Who uses Hacker News?\n",
    "\n",
    "Hacker News is popular in technology and start-up circles, and is regularly visited by hundreds of thousands of visitors daily.\n",
    "\n",
    "### Why evaluate stories on Hacker News?\n",
    "\n",
    "By examining the differences between how often different post categories (ie Ask HN, Show HN, etc.), we can gain insight into what sort of posts would generate the most visibility (though comments or aggregate votes) for our client. We can also determine if there is an opportune time of day to post on HN to maximize visibility.\n",
    "\n",
    "---\n",
    "---\n",
    "\n",
    "## Goals\n",
    "\n",
    "### 1. Determine if \"Ask HN\" or \"Show HN\" receive different amounts of comments on average\n",
    "\n",
    "### 2. Identify posting times which lead to higher quantities of comments\n",
    "\n",
    "### 3. Determine which post category receives the most points on average\n",
    "\n",
    "### 4. Identify posting times that lead to higher average points\n",
    "---\n",
    "---\n",
    "\n",
    "## Outline\n",
    "\n",
    "#### Imports\n",
    "\n",
    "#### Functions\n",
    "* metric_sort\n",
    "* avg_metric\n",
    "\n",
    "#### Data Source\n",
    "* Data Pre-cleaning\n",
    "* Dataset Headings\n",
    "* (1) Importing Dataset\n",
    "* (2) Data sorting and aggregation\n",
    "\n",
    "#### Data Analysis\n",
    "* (Q-1) What post types receive the most comments?\n",
    "     * (A-1) Ask posts receive most comments on average\n",
    "* (Q-2) Does time-of-day affect Ask HN post comment number?\n",
    "    * (A-2) Early afternoon includes several of the best times to post\n",
    "* (Q-3) What post category receives more points on average?\n",
    "    * (A-3) Posts that are neither Ask HN nor Show HN receive the most points.\n",
    "* (Q-4) Does the number of points awarded to posts vary with time-of-day?\n",
    "    * (A-4) The number of points awarded per day varies least in the \"Other\" category of post\n",
    "\n",
    "#### Conclusion\n",
    "---\n",
    "---"
   ]
  },
  {
   "cell_type": "markdown",
   "id": "6ba874ce",
   "metadata": {},
   "source": [
    "## Imports"
   ]
  },
  {
   "cell_type": "code",
   "execution_count": 1,
   "id": "05ec136e",
   "metadata": {},
   "outputs": [],
   "source": [
    "import csv\n",
    "import datetime as dt"
   ]
  },
  {
   "cell_type": "markdown",
   "id": "1fc0a866",
   "metadata": {},
   "source": [
    "## Functions\n",
    "### metric_sort\n",
    "\n",
    "This function accepts a list which follows the format of this project's imported dataset. It takes this list and calculates an average metric (in this project either comments or points) and returns a descending sorted list in the desired metric.\n",
    "\n",
    "**post_list** = a list of lists which contains a subset of the main data file. Each row represents a single post on HackerNews\n",
    "\n",
    "**dataset_name** = the name of the data subset, for use in the print-out\n",
    "\n",
    "**metric_index** = the list index of the metric of index. For number of comments, this will be 4. For number of points, this will be 3.\n",
    "\n",
    "**metric_name** = the name of the metric of interest, for use in thge print-out\n",
    "\n",
    "**top_x_hours** = the number of hours to include in the printout"
   ]
  },
  {
   "cell_type": "code",
   "execution_count": 2,
   "id": "ed2831e5",
   "metadata": {},
   "outputs": [],
   "source": [
    "def metric_sort(post_list, dataset_name, metric_index, \n",
    "               metric_name, top_x_hours):\n",
    "    result_list = []\n",
    "\n",
    "    for entry in post_list:\n",
    "        num_metric = int(entry[metric_index])\n",
    "        created_at = dt.datetime.strptime(entry[6], \"%m/%d/%Y %H:%M\")\n",
    "        result_list.append([created_at, num_metric])\n",
    "\n",
    "    # Accumulators for calculation of the average\n",
    "    counts_by_hour = {}\n",
    "    metric_by_hour = {}\n",
    "\n",
    "    # Perform counting for the averages\n",
    "    for entry in result_list:\n",
    "        hour = entry[0].hour\n",
    "        metric = entry[1]\n",
    "\n",
    "        if hour in counts_by_hour:\n",
    "            counts_by_hour[hour] += 1\n",
    "            metric_by_hour[hour] += metric\n",
    "        else:\n",
    "            counts_by_hour[hour] = 1\n",
    "            metric_by_hour[hour] = metric\n",
    "\n",
    "    # List-of-Lists that will contain [[Hour (n), Average metric in hour (n)],\n",
    "    #                                  [Hour (n+1), Average metric in hour (n+1)],\n",
    "    #                                  [Hour (n+2), Average metric in hour (n+2)],\n",
    "    #                                  ...]\n",
    "    avg_by_hour = []\n",
    "\n",
    "    for hour in counts_by_hour:\n",
    "        posts = counts_by_hour[hour]\n",
    "        metric = metric_by_hour[hour]\n",
    "        average = metric/posts\n",
    "        avg_by_hour.append([hour, average])\n",
    "\n",
    "        \n",
    "    # List-of-Lists that will contain [[Average metric in hour(n), Hour (n)],\n",
    "    #                                  [Average metric in hour (n+1), Hour (n+1)],\n",
    "    #                                  [Average metric in hour (n+2), Hour (n+2)],\n",
    "    #                                  ...]\n",
    "    swap_avg_by_hour = []\n",
    "    \n",
    "    for hour in avg_by_hour:\n",
    "        swap_avg_by_hour.append([hour[1], hour[0]])\n",
    "\n",
    "        \n",
    "    # List-of-Lists that will contain [[Average metric in hour with HIGHEST METRIC, Hour with HIGHEST METRIC],\n",
    "    #                                  [Average points in hour with SECOND HIGHEST METRIC, Hour with SECOND HIGHEST METRIC],\n",
    "    #                                  [Average points in hour with THIRD HIGHEST METRIC, Hour with THIRD HIGHEST METRIC],\n",
    "    #                                  ...]\n",
    "    sorted_swap = sorted(swap_avg_by_hour, reverse = True)\n",
    "\n",
    "    print(\"The {} hours during which \\\"{} posts\\\" accumulated the most {}:\".format(top_x_hours, dataset_name, metric_name))\n",
    "\n",
    "    for i in range(0, top_x_hours):\n",
    "        [hr, metric] = [sorted_swap[i][1], sorted_swap[i][0]]\n",
    "        time = dt.datetime.strptime(str(hr), \"%H\")\n",
    "        time_str = time.strftime(\"%H:%M\")\n",
    "        print(\"{}: {:.2f} average {} per post\".format(time_str, metric, metric_name))\n",
    "        \n",
    "    return sorted_swap"
   ]
  },
  {
   "cell_type": "markdown",
   "id": "fba4d239",
   "metadata": {},
   "source": [
    "### avg_metric\n",
    "\n",
    "This function determined the average points, given a data subset in the format of the imported data.\n",
    "\n",
    "**data_subset** = a subset of the imported dataset, in the format of the imported dataset\n",
    "\n",
    "**metric_index** = the list index of the metric of index. For number of comments, this will be 4. For number of points, this will be 3.\n",
    "\n",
    "**metric_name** = the name of the metric of interest, for use in thge print-out"
   ]
  },
  {
   "cell_type": "code",
   "execution_count": 3,
   "id": "9d25e5a2",
   "metadata": {},
   "outputs": [],
   "source": [
    "def avg_metric(data_subset, subset_name, metric_index, metric_name):\n",
    "    sum_metric = 0\n",
    "    num_posts = len(data_subset)\n",
    "    \n",
    "    for entry in data_subset:\n",
    "        title = entry[1].lower()\n",
    "        sum_metric += int(entry[metric_index])\n",
    "\n",
    "\n",
    "    average_metric = sum_metric/num_posts\n",
    "    print('The average {} per post in the {} subset are: {:.2f}'.format(metric_name, subset_name, average_metric))\n",
    "          \n",
    "    return [sum_metric, average_metric]"
   ]
  },
  {
   "cell_type": "markdown",
   "id": "23e79047",
   "metadata": {},
   "source": [
    "## Data Source\n",
    "\n",
    "This project utilizes data avaiable on Kaggle, titled [Hacker News Posts](https://www.kaggle.com/hacker-news/hacker-news-posts).\n",
    "\n",
    "### Data Pre-cleaning\n",
    "\n",
    "The original data file includes +300,000 entries. This data was cleaned in two steps:\n",
    "\n",
    "1. Remove all submissions without comments\n",
    "2. Randomly sample from remaining submissions\n",
    "\n",
    "The final data-set has ~20,000 entries.\n",
    "\n",
    "### Dataset Headings\n",
    "**\\[0\\]** = *id*: the unique identifier number\n",
    "\n",
    "**\\[1\\]** = *title*: the title of the post\n",
    "\n",
    "**\\[2\\]** = *url*: the url that the post links to, if it links to a URL\n",
    "\n",
    "**\\[3\\]** = *num_points*: the number of points the post acquired, calculated as upvotes less downvotes\n",
    "\n",
    "**\\[4\\]** = *num_comments*: the number of comments made on the post\n",
    "\n",
    "**\\[5\\]** = *author*: the username of the person who submitted the post\n",
    "\n",
    "**\\[6\\]** = *created_at*: the date and time at which the post was submitted\n",
    "\n",
    "---"
   ]
  },
  {
   "cell_type": "markdown",
   "id": "9754b8d0",
   "metadata": {},
   "source": [
    "### (1) Importing Data"
   ]
  },
  {
   "cell_type": "code",
   "execution_count": 4,
   "id": "51b99855",
   "metadata": {},
   "outputs": [
    {
     "name": "stdout",
     "output_type": "stream",
     "text": [
      "A sample of the dataset is below:\n",
      "['id', 'title', 'url', 'num_points', 'num_comments', 'author', 'created_at']\n",
      "=============================================================================\n",
      "[['12579008', 'You have two days to comment if you want stem cells to be classified as your own', 'http://www.regulations.gov/document?D=FDA-2015-D-3719-0018', '1', '0', 'altstar', '9/26/2016 3:26'], ['12579005', 'SQLAR  the SQLite Archiver', 'https://www.sqlite.org/sqlar/doc/trunk/README.md', '1', '0', 'blacksqr', '9/26/2016 3:24'], ['12578997', 'What if we just printed a flatscreen television on the side of our boxes?', 'https://medium.com/vanmoof/our-secrets-out-f21c1f03fdc8#.ietxmez43', '1', '0', 'pavel_lishin', '9/26/2016 3:19'], ['12578989', 'algorithmic music', 'http://cacm.acm.org/magazines/2011/7/109891-algorithmic-composition/fulltext', '1', '0', 'poindontcare', '9/26/2016 3:16']]\n",
      "=============================================================================\n"
     ]
    }
   ],
   "source": [
    "from csv import reader\n",
    "opened_file = open('./DataSets/HackerNews/HN_posts_year_to_Sep_26_2016.csv', encoding='utf8')\n",
    "read_file = reader(opened_file)\n",
    "hn = list(read_file)\n",
    "\n",
    "headers = hn[0]\n",
    "hn = hn[1:]\n",
    "\n",
    "print('A sample of the dataset is below:')\n",
    "print(headers)\n",
    "print('=============================================================================')\n",
    "print(hn[0:4])\n",
    "print('=============================================================================')"
   ]
  },
  {
   "cell_type": "markdown",
   "id": "c35c4cce",
   "metadata": {},
   "source": [
    "### (2) Data sorting and aggregation\n",
    "\n",
    "With the data read into our program, we start by filtering the remaining data into three buckets:\n",
    "\n",
    "1. 'Ask HN'\n",
    "2. 'Show HN'\n",
    "3. 'Other'\n",
    "\n",
    "Additionally, we can calulate the average number of comments for each of these categories."
   ]
  },
  {
   "cell_type": "code",
   "execution_count": 5,
   "id": "6427dae4",
   "metadata": {},
   "outputs": [
    {
     "name": "stdout",
     "output_type": "stream",
     "text": [
      "The total number of posts is 293119\n",
      "======================================\n",
      "The number of ask posts is \t9139\n",
      "The number of show posts is \t10158\n",
      "The number of other posts is \t273822\n"
     ]
    }
   ],
   "source": [
    "ask_posts = []\n",
    "show_posts = []\n",
    "other_posts = []\n",
    "\n",
    "for entry in hn:\n",
    "    title = entry[1].lower()\n",
    "    if title.startswith('ask hn'):\n",
    "        ask_posts.append(entry)\n",
    "    elif title.startswith('show hn'):\n",
    "        show_posts.append(entry)\n",
    "    else:\n",
    "        other_posts.append(entry)\n",
    "        \n",
    "num_ask_posts = len(ask_posts)\n",
    "num_show_posts = len(show_posts)\n",
    "num_other_posts = len(other_posts)\n",
    "        \n",
    "print('The total number of posts is {}'.format(len(hn)))\n",
    "print('======================================')\n",
    "print('The number of ask posts is \\t{}'.format(num_ask_posts))\n",
    "print('The number of show posts is \\t{}'.format(num_show_posts))\n",
    "print('The number of other posts is \\t{}'.format(num_other_posts))    "
   ]
  },
  {
   "cell_type": "markdown",
   "id": "89338d54",
   "metadata": {},
   "source": [
    "---\n",
    "## Data analysis\n",
    "\n",
    "### (Q-1) What post types receive the most comments?"
   ]
  },
  {
   "cell_type": "code",
   "execution_count": 6,
   "id": "8344a714",
   "metadata": {},
   "outputs": [
    {
     "name": "stdout",
     "output_type": "stream",
     "text": [
      "The average comments per post in the ASK subset are: 10.39\n",
      "The average comments per post in the SHOW subset are: 4.89\n",
      "The average comments per post in the OTHER subset are: 6.46\n"
     ]
    }
   ],
   "source": [
    "[total_ask_comments, average_ask_comments] = avg_metric(ask_posts, \"ASK\", 4, \"comments\")\n",
    "[total_show_comments, average_show_comments] = avg_metric(show_posts, \"SHOW\", 4, \"comments\")\n",
    "[total_other_comments, average_other_comments] = avg_metric(other_posts, \"OTHER\", 4, \"comments\")"
   ]
  },
  {
   "cell_type": "markdown",
   "id": "0a0cd299",
   "metadata": {},
   "source": [
    "### (A-1) Ask posts receive most comments on average\n",
    "\n",
    "\n",
    "Based on our analysis, *ask* posts receive the most comments, followed by *other* posts, then *show* posts. The exact results are in the output above. This finding follows logic, as those seeking help are specifically soliciting comments.\n",
    "\n",
    "---\n"
   ]
  },
  {
   "cell_type": "markdown",
   "id": "5f985ce1",
   "metadata": {},
   "source": [
    "### (Q-2) Does time-of-day affect *Ask HN* post comment number?\n",
    "\n",
    "Next, we will examine the frequency of postings versus time-of-day."
   ]
  },
  {
   "cell_type": "code",
   "execution_count": 7,
   "id": "33eee9ea",
   "metadata": {},
   "outputs": [
    {
     "name": "stdout",
     "output_type": "stream",
     "text": [
      "The 5 hours during which \"Ask posts\" accumulated the most comment(s):\n",
      "15:00: 28.68 average comment(s) per post\n",
      "13:00: 16.32 average comment(s) per post\n",
      "12:00: 12.38 average comment(s) per post\n",
      "02:00: 11.14 average comment(s) per post\n",
      "10:00: 10.68 average comment(s) per post\n",
      "\n",
      "\n",
      "The 5 hours during which \"Show posts\" accumulated the most comment(s):\n",
      "12:00: 6.99 average comment(s) per post\n",
      "07:00: 6.68 average comment(s) per post\n",
      "11:00: 6.00 average comment(s) per post\n",
      "08:00: 5.60 average comment(s) per post\n",
      "14:00: 5.52 average comment(s) per post\n",
      "\n",
      "\n",
      "The 5 hours during which \"Other posts\" accumulated the most comment(s):\n",
      "12:00: 7.59 average comment(s) per post\n",
      "11:00: 7.37 average comment(s) per post\n",
      "02:00: 7.18 average comment(s) per post\n",
      "13:00: 7.15 average comment(s) per post\n",
      "05:00: 6.79 average comment(s) per post\n"
     ]
    }
   ],
   "source": [
    "comments_ask_sort = metric_sort(ask_posts, \"Ask\", 4, \"comment(s)\", 5)\n",
    "print('\\n')\n",
    "comments_show_sort = metric_sort(show_posts, \"Show\", 4, \"comment(s)\", 5)\n",
    "print('\\n')\n",
    "comments_other_sort = metric_sort(other_posts, \"Other\", 4, \"comment(s)\", 5)"
   ]
  },
  {
   "cell_type": "markdown",
   "id": "0aaff22a",
   "metadata": {},
   "source": [
    "### (A-2) Early afternoon includes several of the best times to post\n",
    "\n",
    "As shown in the code block above, if you want to maximize the number of comments you receive on your posts, it is best to post during the hours of 2pm, 12pm, 11am, 1am, or 9am Central time (time above are given in Eastern time)"
   ]
  },
  {
   "cell_type": "markdown",
   "id": "cd7eb1b0",
   "metadata": {},
   "source": [
    "---\n",
    "### (Q-3) What post category receives more points on average?\n",
    "\n",
    "So far, we have only examined the number of comments on a post. The number of points a post receives (the difference of the post's up and down votes), gives us an idea of the community's reception of the post."
   ]
  },
  {
   "cell_type": "code",
   "execution_count": 8,
   "id": "9fc7e482",
   "metadata": {},
   "outputs": [
    {
     "name": "stdout",
     "output_type": "stream",
     "text": [
      "The average points per post in the ASK subset are: 11.31\n",
      "The average points per post in the SHOW subset are: 14.84\n",
      "The average points per post in the OTHER subset are: 15.16\n"
     ]
    }
   ],
   "source": [
    "[total_ask_points, average_ask_points] = avg_metric(ask_posts, \"ASK\", 3, \"points\")\n",
    "[total_show_points, average_show_points] = avg_metric(show_posts, \"SHOW\", 3, \"points\")\n",
    "[total_other_points, average_other_points] = avg_metric(other_posts, \"OTHER\", 3, \"points\")"
   ]
  },
  {
   "cell_type": "markdown",
   "id": "c01d442b",
   "metadata": {},
   "source": [
    "### (A-3) Posts that are neither *Ask HN* nor *Show HN* receive the most points.\n",
    "\n",
    "The data above show that non-ask, non-show HN posts receive the kmost points, followed by Show HN posts. In my mind, I imagine users posting memes, or cat photos which are easy to award points to, but neither promote discussion, ask for information, nor provide information.\n",
    "\n",
    "A brief exploration of the articles composing the other category is given below."
   ]
  },
  {
   "cell_type": "code",
   "execution_count": 9,
   "id": "fbc2ade7",
   "metadata": {},
   "outputs": [
    {
     "name": "stdout",
     "output_type": "stream",
     "text": [
      "You have two days to comment if you want stem cells to be classified as your own\n",
      "SQLAR  the SQLite Archiver\n",
      "What if we just printed a flatscreen television on the side of our boxes?\n",
      "algorithmic music\n",
      "How the Data Vault Enables the Next-Gen Data Warehouse and Data Lake\n",
      "Saving the Hassle of Shopping\n",
      "Macalifa  A new open-source music app for UWP that won't suck\n",
      "GitHub  theweavrs/Macalifa: A music player written for UWP\n",
      "Google Allo  first Impression\n",
      "Advanced Multimedia on the Linux Command Line\n",
      "Muroc Maru\n",
      "Why companies make their products worse\n",
      "Tuning AWS SQS Queues\n",
      "The Promise of GitHub\n",
      "Joint R&D Has Its Ups and Downs\n",
      "IBM announces next implementation of Apples Swift developer language\n",
      "Amazons Algorithms Dont Find You the Best Deals\n",
      "Ruffled Feathers\n",
      "The Veil of Ignorance  Design and Accessbility\n",
      "OMeta#: Who? What? When? Where? Why? (2008)\n",
      "Burning Ship fractal\n"
     ]
    }
   ],
   "source": [
    "other_titles = []\n",
    "\n",
    "for entry in other_posts:\n",
    "    other_titles.append(entry[1])\n",
    "    \n",
    "for i in range(0,21):\n",
    "    print(other_titles[i])"
   ]
  },
  {
   "cell_type": "markdown",
   "id": "f6a291e4",
   "metadata": {},
   "source": [
    "Without reading the actual posts, I infer that the other category consitst of a mixture of unlabeled \"Show HN\" posts and news/technical stories that users think would be interesting for the community:\n",
    "\n",
    "**Unlabeled Show HN**\n",
    "* SQLAR the SQLite Archiver\n",
    "* Burning Ship Fractal\n",
    "\n",
    "\n",
    "**News/Techincal Stories**\n",
    "* You have two days to comment if you want stem cells to be classified as your own\n",
    "* Why companies make their products worse\n",
    "* The promise of GitHub\n",
    "* IBM announces next implementation of Apples Swift developer language\n",
    "* Macalifa A new open-source music app for UWP that won't suck\n",
    "* GitHub thewavrs/Macalifa: A music player written for UWP\n",
    "\n",
    "**Personal views/reviews**\n",
    "* Google Allo first Impression\n",
    "\n",
    "\n",
    "\n",
    "Given that news stories tend to have broader appeal than any one project, it makes sense that more users would be interested in rating the story."
   ]
  },
  {
   "cell_type": "markdown",
   "id": "219fa92b",
   "metadata": {},
   "source": [
    "### (Q-4) Does the number of points awarded to posts vary with time-of-day?\n",
    "\n",
    "Finally, we can examine if the number of points, which I would take as a stronger proxy of user activity than number of comments, cvaries by time of day."
   ]
  },
  {
   "cell_type": "code",
   "execution_count": 10,
   "id": "93a97aab",
   "metadata": {},
   "outputs": [
    {
     "name": "stdout",
     "output_type": "stream",
     "text": [
      "The 5 hours during which \"Ask posts\" accumulated the most points:\n",
      "15:00: 21.64 average points per post\n",
      "13:00: 17.93 average points per post\n",
      "12:00: 13.58 average points per post\n",
      "10:00: 13.44 average points per post\n",
      "17:00: 12.19 average points per post\n",
      "\n",
      "\n",
      "The 5 hours during which \"Show posts\" accumulated the most points:\n",
      "12:00: 20.91 average points per post\n",
      "11:00: 19.26 average points per post\n",
      "13:00: 17.02 average points per post\n",
      "19:00: 16.06 average points per post\n",
      "06:00: 15.99 average points per post\n",
      "\n",
      "\n",
      "The 5 hours during which \"Other posts\" accumulated the most points:\n",
      "02:00: 16.71 average points per post\n",
      "12:00: 16.70 average points per post\n",
      "11:00: 16.29 average points per post\n",
      "00:00: 16.12 average points per post\n",
      "13:00: 16.02 average points per post\n"
     ]
    }
   ],
   "source": [
    "# Using ask_posts, show_posts, and other_posts lists from code block 2\n",
    "  \n",
    "sorted_ask = metric_sort(ask_posts, \"Ask\", 3, \"points\", 5)\n",
    "print('\\n')\n",
    "sorted_show = metric_sort(show_posts, \"Show\", 3, \"points\", 5)\n",
    "print('\\n')\n",
    "sorted_other = metric_sort(other_posts, \"Other\", 3, \"points\", 5)"
   ]
  },
  {
   "cell_type": "markdown",
   "id": "356854ae",
   "metadata": {},
   "source": [
    "### (A-4) The number of points awarded per day varies least in the \"Other\" category of post\n",
    "\n",
    "The most striking result of this analysis is that the points per post in the *other* category is almost flat across a 24 hour period. Contrast this with the ranges of the other two categories, which are **significantly** larger:"
   ]
  },
  {
   "cell_type": "code",
   "execution_count": 11,
   "id": "20d10aba",
   "metadata": {},
   "outputs": [
    {
     "name": "stdout",
     "output_type": "stream",
     "text": [
      "Range of average points per post:\n",
      "=================================\n",
      "Ask HN: 14.01\n",
      "Show HN: 10.38\n",
      "Other: 2.93\n"
     ]
    }
   ],
   "source": [
    "range_ask = sorted_ask[0][0] - sorted_ask[-1][0]\n",
    "range_show = sorted_show[0][0] - sorted_show[-1][0]\n",
    "range_other = sorted_other[0][0] - sorted_other[-1][0]\n",
    "\n",
    "print(\"Range of average points per post:\")\n",
    "print(\"=================================\")\n",
    "print(\"Ask HN: {:.2f}\".format(range_ask))\n",
    "print(\"Show HN: {:.2f}\".format(range_show))\n",
    "print(\"Other: {:.2f}\".format(range_other))"
   ]
  },
  {
   "cell_type": "markdown",
   "id": "2ba64644",
   "metadata": {},
   "source": [
    "It is worth noting that there are many more \"other\" posts than \"ask\" or \"show\" posts, which might contribute to this decrease in variability:\n",
    "\n",
    "* Other posts = 273,822\n",
    "* Ask posts   =   9,139\n",
    "* Show posts  =  10,158\n",
    "---\n",
    "---"
   ]
  },
  {
   "cell_type": "markdown",
   "id": "1dcb9c1f",
   "metadata": {},
   "source": [
    "## Conclusion\n",
    "\n",
    "   In this project, we examined a dataset containing posting, commenting, and rating statistics from \"Hacker News.\" We addressed four questions:\n",
    "\n",
    "1. What post types receive the most comments?\n",
    "\n",
    "Ask posts receive the most comments, followed by show posts, followed by other posts. I posit that this is due to the very nature of ask posts requesting feedback.\n",
    "\n",
    "\n",
    "2. Does time-of-day affect Ask HN post comment number?\n",
    "\n",
    "Time-of-day does apper to affect the number of comments that are received per Ask HN post. Beyond a cluster of hours in the early afternoon Central US time, I do not see a particularly predictable pattern. Overall, the hour with the highest comment number per \"Ask HN\" post is 3pm Central US Time.\n",
    "\n",
    "\n",
    "3. What post category receives more points on average?\n",
    "\n",
    "Surprisingly, both the \"Ask HN\" and the \"Show HN\" posts receive fewer points than posts in the other category. A brief analysis shows that this other category is composed of both news stories and unlabeled \"ask\" and \"show\" posts.\n",
    "\n",
    "\n",
    "4. Does the number of points awarded to posts vary with time-of-day?\n",
    "\n",
    "This question also provided the surprising result that in an average 24 hour period, the variablility in points-per-post was drastically lower in the \"other\" category than in the \"ask\" or \"show\" caregories. This could reflect the broader interest that these topics have, as well as news articles being more digestible during the day than entire coding projects. An alternative exaplanation would be that we have a significantly larger denominator in the \"other\" category, which might be masking a higher range.\n"
   ]
  }
 ],
 "metadata": {
  "kernelspec": {
   "display_name": "Python 3",
   "language": "python",
   "name": "python3"
  },
  "language_info": {
   "codemirror_mode": {
    "name": "ipython",
    "version": 3
   },
   "file_extension": ".py",
   "mimetype": "text/x-python",
   "name": "python",
   "nbconvert_exporter": "python",
   "pygments_lexer": "ipython3",
   "version": "3.8.8"
  }
 },
 "nbformat": 4,
 "nbformat_minor": 5
}
